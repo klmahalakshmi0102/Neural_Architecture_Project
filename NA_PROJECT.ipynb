{
  "nbformat": 4,
  "nbformat_minor": 0,
  "metadata": {
    "colab": {
      "provenance": [],
      "include_colab_link": true
    },
    "kernelspec": {
      "name": "python3",
      "display_name": "Python 3"
    },
    "language_info": {
      "name": "python"
    }
  },
  "cells": [
    {
      "cell_type": "markdown",
      "metadata": {
        "id": "view-in-github",
        "colab_type": "text"
      },
      "source": [
        "<a href=\"https://colab.research.google.com/github/klmahalakshmi0102/Neural_Architecture_Project/blob/master/NA_PROJECT.ipynb\" target=\"_parent\"><img src=\"https://colab.research.google.com/assets/colab-badge.svg\" alt=\"Open In Colab\"/></a>"
      ]
    },
    {
      "cell_type": "code",
      "source": [
        "from google.colab import drive\n",
        "drive.mount('/content/drive')"
      ],
      "metadata": {
        "colab": {
          "base_uri": "https://localhost:8080/"
        },
        "id": "54BFaClxwNCw",
        "outputId": "f81e4050-2b28-49f0-870d-42683e7ddfb9"
      },
      "execution_count": null,
      "outputs": [
        {
          "output_type": "stream",
          "name": "stdout",
          "text": [
            "Drive already mounted at /content/drive; to attempt to forcibly remount, call drive.mount(\"/content/drive\", force_remount=True).\n"
          ]
        }
      ]
    },
    {
      "cell_type": "code",
      "execution_count": null,
      "metadata": {
        "id": "GWNIpSv7pMGC"
      },
      "outputs": [],
      "source": [
        "from tensorflow.keras.layers import Input, Lambda, Dense, Flatten,Conv2D\n",
        "from tensorflow.keras.models import Model\n",
        "from tensorflow.keras.preprocessing.image import ImageDataGenerator,load_img\n",
        "from tensorflow.keras.models import Sequential\n",
        "from tensorflow.keras.layers import MaxPooling2D\n",
        "import numpy as np\n",
        "from glob import glob\n",
        "import matplotlib.pyplot as plt"
      ]
    },
    {
      "cell_type": "code",
      "source": [
        "import tensorflow as tf\n",
        "print(tf.__version__)"
      ],
      "metadata": {
        "colab": {
          "base_uri": "https://localhost:8080/"
        },
        "id": "Alvsbm_4qJsK",
        "outputId": "ef4353bc-a836-4e95-b19d-a947145e84a5"
      },
      "execution_count": null,
      "outputs": [
        {
          "output_type": "stream",
          "name": "stdout",
          "text": [
            "2.9.2\n"
          ]
        }
      ]
    },
    {
      "cell_type": "code",
      "source": [
        "# re-size all the images to this\n",
        "IMAGE_SIZE = [224, 224]\n",
        "\n",
        "train_path = '/content/drive/MyDrive/data/train'\n",
        "valid_path = '/content/drive/MyDrive/data/test'"
      ],
      "metadata": {
        "id": "CsOWCodoqQYl"
      },
      "execution_count": null,
      "outputs": []
    },
    {
      "cell_type": "code",
      "source": [
        "# useful for getting number of output classes\n",
        "folders = glob('/content/drive/MyDrive/data/train/*')"
      ],
      "metadata": {
        "id": "QKBBSAnCqTIM"
      },
      "execution_count": null,
      "outputs": []
    },
    {
      "cell_type": "code",
      "source": [
        "folders"
      ],
      "metadata": {
        "colab": {
          "base_uri": "https://localhost:8080/"
        },
        "id": "8PjolnBDq6y-",
        "outputId": "5077b41a-52b7-4253-975e-fa3be2e3f895"
      },
      "execution_count": null,
      "outputs": [
        {
          "output_type": "execute_result",
          "data": {
            "text/plain": [
              "['/content/drive/MyDrive/data/train/Uninfected',\n",
              " '/content/drive/MyDrive/data/train/Parasite']"
            ]
          },
          "metadata": {},
          "execution_count": 26
        }
      ]
    },
    {
      "cell_type": "code",
      "source": [
        "### Create Model from scratch using CNN with kernel size 2\n",
        "model1=Sequential()\n",
        "model1.add(Conv2D(filters=16,kernel_size=2,padding=\"same\",activation=\"relu\",input_shape=(224,224,3)))\n",
        "model1.add(MaxPooling2D(pool_size=2))\n",
        "model1.add(Conv2D(filters=32,kernel_size=2,padding=\"same\",activation =\"relu\"))\n",
        "model1.add(MaxPooling2D(pool_size=2))\n",
        "model1.add(Conv2D(filters=64,kernel_size=2,padding=\"same\",activation=\"relu\"))\n",
        "model1.add(MaxPooling2D(pool_size=2))\n",
        "model1.add(Flatten())\n",
        "model1.add(Dense(500,activation=\"relu\"))\n",
        "model1.add(Dense(2,activation=\"softmax\"))\n",
        "model1.summary()"
      ],
      "metadata": {
        "colab": {
          "base_uri": "https://localhost:8080/"
        },
        "id": "Bzgza0Kpq7z5",
        "outputId": "1af739c4-39ea-438e-bafd-461cfc9b6650"
      },
      "execution_count": null,
      "outputs": [
        {
          "output_type": "stream",
          "name": "stdout",
          "text": [
            "Model: \"sequential_1\"\n",
            "_________________________________________________________________\n",
            " Layer (type)                Output Shape              Param #   \n",
            "=================================================================\n",
            " conv2d_3 (Conv2D)           (None, 224, 224, 16)      208       \n",
            "                                                                 \n",
            " max_pooling2d_3 (MaxPooling  (None, 112, 112, 16)     0         \n",
            " 2D)                                                             \n",
            "                                                                 \n",
            " conv2d_4 (Conv2D)           (None, 112, 112, 32)      2080      \n",
            "                                                                 \n",
            " max_pooling2d_4 (MaxPooling  (None, 56, 56, 32)       0         \n",
            " 2D)                                                             \n",
            "                                                                 \n",
            " conv2d_5 (Conv2D)           (None, 56, 56, 64)        8256      \n",
            "                                                                 \n",
            " max_pooling2d_5 (MaxPooling  (None, 28, 28, 64)       0         \n",
            " 2D)                                                             \n",
            "                                                                 \n",
            " flatten_1 (Flatten)         (None, 50176)             0         \n",
            "                                                                 \n",
            " dense_2 (Dense)             (None, 500)               25088500  \n",
            "                                                                 \n",
            " dense_3 (Dense)             (None, 2)                 1002      \n",
            "                                                                 \n",
            "=================================================================\n",
            "Total params: 25,100,046\n",
            "Trainable params: 25,100,046\n",
            "Non-trainable params: 0\n",
            "_________________________________________________________________\n"
          ]
        }
      ]
    },
    {
      "cell_type": "code",
      "source": [
        "# tell the model what cost and optimization method to use\n",
        "model1.compile(\n",
        "  loss='categorical_crossentropy',\n",
        "  optimizer='adam',\n",
        "  metrics=['accuracy']\n",
        ")"
      ],
      "metadata": {
        "id": "rZGjQkfGq8VS"
      },
      "execution_count": null,
      "outputs": []
    },
    {
      "cell_type": "code",
      "source": [
        "# Use the Image Data Generator to import the images from the dataset\n",
        "from tensorflow.keras.preprocessing.image import ImageDataGenerator\n",
        "\n",
        "train_datagen = ImageDataGenerator(rescale = 1./255,\n",
        "                                   shear_range = 0.2,\n",
        "                                   zoom_range = 0.2,\n",
        "                                   horizontal_flip = True )\n",
        "\n",
        "\n",
        "test_datagen = ImageDataGenerator(rescale = 1./255)"
      ],
      "metadata": {
        "id": "W_dVr3WBq8YC"
      },
      "execution_count": null,
      "outputs": []
    },
    {
      "cell_type": "code",
      "source": [
        "# Make sure you provide the same target size as initialied for the image size\n",
        "training_set = train_datagen.flow_from_directory('/content/drive/MyDrive/data/train',\n",
        "                                                 target_size = (224, 224),\n",
        "                                                 batch_size = 32,\n",
        "                                                 class_mode = 'categorical')"
      ],
      "metadata": {
        "colab": {
          "base_uri": "https://localhost:8080/"
        },
        "id": "GNgN4dyuq8cG",
        "outputId": "35a63b5f-ed57-4137-8899-6ebbacd2924c"
      },
      "execution_count": null,
      "outputs": [
        {
          "output_type": "stream",
          "name": "stdout",
          "text": [
            "Found 416 images belonging to 2 classes.\n"
          ]
        }
      ]
    },
    {
      "cell_type": "code",
      "source": [
        "training_set"
      ],
      "metadata": {
        "colab": {
          "base_uri": "https://localhost:8080/"
        },
        "id": "75HkQawlrG88",
        "outputId": "b3015cb4-562f-43ce-98a5-5f5cada554a4"
      },
      "execution_count": null,
      "outputs": [
        {
          "output_type": "execute_result",
          "data": {
            "text/plain": [
              "<keras.preprocessing.image.DirectoryIterator at 0x7f813fafbb90>"
            ]
          },
          "metadata": {},
          "execution_count": 31
        }
      ]
    },
    {
      "cell_type": "code",
      "source": [
        "test_set = test_datagen.flow_from_directory('/content/drive/MyDrive/data/test',\n",
        "                                            target_size = (224, 224),\n",
        "                                            batch_size = 32,\n",
        "                                            class_mode = 'categorical')"
      ],
      "metadata": {
        "colab": {
          "base_uri": "https://localhost:8080/"
        },
        "id": "CW2pquVhrG_o",
        "outputId": "43341942-2c0f-4afc-8967-d252db4680f2"
      },
      "execution_count": null,
      "outputs": [
        {
          "output_type": "stream",
          "name": "stdout",
          "text": [
            "Found 134 images belonging to 2 classes.\n"
          ]
        }
      ]
    },
    {
      "cell_type": "code",
      "source": [
        "# fit the model\n",
        "# Run the cell. It will take some time to execute\n",
        "r = model1.fit_generator(\n",
        "  training_set,\n",
        "  validation_data=test_set,\n",
        "  epochs=20,\n",
        "  steps_per_epoch=len(training_set),\n",
        "  validation_steps=len(test_set)\n",
        ")"
      ],
      "metadata": {
        "colab": {
          "base_uri": "https://localhost:8080/"
        },
        "id": "1q-HI1DirHC-",
        "outputId": "8cb52d26-5852-4908-a0c7-45bce733330e"
      },
      "execution_count": null,
      "outputs": [
        {
          "output_type": "stream",
          "name": "stderr",
          "text": [
            "/usr/local/lib/python3.7/dist-packages/ipykernel_launcher.py:8: UserWarning: `Model.fit_generator` is deprecated and will be removed in a future version. Please use `Model.fit`, which supports generators.\n",
            "  \n"
          ]
        },
        {
          "output_type": "stream",
          "name": "stdout",
          "text": [
            "Epoch 1/20\n",
            "13/13 [==============================] - 22s 2s/step - loss: 0.3045 - accuracy: 0.8894 - val_loss: 0.5464 - val_accuracy: 0.7090\n",
            "Epoch 2/20\n",
            "13/13 [==============================] - 22s 2s/step - loss: 0.2872 - accuracy: 0.9014 - val_loss: 0.5575 - val_accuracy: 0.6642\n",
            "Epoch 3/20\n",
            "13/13 [==============================] - 22s 2s/step - loss: 0.2620 - accuracy: 0.8918 - val_loss: 0.5773 - val_accuracy: 0.7015\n",
            "Epoch 4/20\n",
            "13/13 [==============================] - 22s 2s/step - loss: 0.2755 - accuracy: 0.9038 - val_loss: 0.5637 - val_accuracy: 0.6791\n",
            "Epoch 5/20\n",
            "13/13 [==============================] - 22s 2s/step - loss: 0.2240 - accuracy: 0.9183 - val_loss: 0.5394 - val_accuracy: 0.7388\n",
            "Epoch 6/20\n",
            "13/13 [==============================] - 22s 2s/step - loss: 0.2140 - accuracy: 0.9207 - val_loss: 0.3830 - val_accuracy: 0.8358\n",
            "Epoch 7/20\n",
            "13/13 [==============================] - 25s 2s/step - loss: 0.2078 - accuracy: 0.9375 - val_loss: 0.3327 - val_accuracy: 0.8209\n",
            "Epoch 8/20\n",
            "13/13 [==============================] - 22s 2s/step - loss: 0.1970 - accuracy: 0.9327 - val_loss: 0.5624 - val_accuracy: 0.7164\n",
            "Epoch 9/20\n",
            "13/13 [==============================] - 22s 2s/step - loss: 0.2059 - accuracy: 0.9303 - val_loss: 0.5673 - val_accuracy: 0.7239\n",
            "Epoch 10/20\n",
            "13/13 [==============================] - 22s 2s/step - loss: 0.1610 - accuracy: 0.9423 - val_loss: 0.4119 - val_accuracy: 0.8358\n",
            "Epoch 11/20\n",
            "13/13 [==============================] - 22s 2s/step - loss: 0.1930 - accuracy: 0.9423 - val_loss: 0.3933 - val_accuracy: 0.8209\n",
            "Epoch 12/20\n",
            "13/13 [==============================] - 22s 2s/step - loss: 0.2288 - accuracy: 0.9135 - val_loss: 0.4114 - val_accuracy: 0.8060\n",
            "Epoch 13/20\n",
            "13/13 [==============================] - 22s 2s/step - loss: 0.1741 - accuracy: 0.9447 - val_loss: 0.4491 - val_accuracy: 0.8134\n",
            "Epoch 14/20\n",
            "13/13 [==============================] - 22s 2s/step - loss: 0.1451 - accuracy: 0.9471 - val_loss: 0.3091 - val_accuracy: 0.8657\n",
            "Epoch 15/20\n",
            "13/13 [==============================] - 22s 2s/step - loss: 0.1904 - accuracy: 0.9471 - val_loss: 0.5018 - val_accuracy: 0.7985\n",
            "Epoch 16/20\n",
            "13/13 [==============================] - 22s 2s/step - loss: 0.1488 - accuracy: 0.9471 - val_loss: 0.3210 - val_accuracy: 0.8657\n",
            "Epoch 17/20\n",
            "13/13 [==============================] - 22s 2s/step - loss: 0.1179 - accuracy: 0.9615 - val_loss: 0.3916 - val_accuracy: 0.8507\n",
            "Epoch 18/20\n",
            "13/13 [==============================] - 22s 2s/step - loss: 0.1166 - accuracy: 0.9567 - val_loss: 0.2996 - val_accuracy: 0.8582\n",
            "Epoch 19/20\n",
            "13/13 [==============================] - 22s 2s/step - loss: 0.1237 - accuracy: 0.9615 - val_loss: 0.2867 - val_accuracy: 0.8657\n",
            "Epoch 20/20\n",
            "13/13 [==============================] - 22s 2s/step - loss: 0.1044 - accuracy: 0.9663 - val_loss: 0.3023 - val_accuracy: 0.8731\n"
          ]
        }
      ]
    },
    {
      "cell_type": "code",
      "source": [
        "# plot the loss\n",
        "plt.plot(r.history['loss'], label='train loss')\n",
        "plt.plot(r.history['val_loss'], label='val loss')\n",
        "plt.legend()\n",
        "plt.show()\n",
        "plt.savefig('LossVal_loss')\n",
        "\n",
        "# plot the accuracy\n",
        "plt.plot(r.history['accuracy'], label='train acc')\n",
        "plt.plot(r.history['val_accuracy'], label='val acc')\n",
        "plt.legend()\n",
        "plt.show()\n",
        "plt.savefig('AccVal_acc')"
      ],
      "metadata": {
        "colab": {
          "base_uri": "https://localhost:8080/",
          "height": 534
        },
        "id": "5fw_rVSQrUb3",
        "outputId": "59ca6ae5-65ec-4746-867d-95c8b63f7226"
      },
      "execution_count": null,
      "outputs": [
        {
          "output_type": "display_data",
          "data": {
            "text/plain": [
              "<Figure size 432x288 with 1 Axes>"
            ],
            "image/png": "[encoded data removed]"
          },
          "metadata": {
            "needs_background": "light"
          }
        },
        {
          "output_type": "display_data",
          "data": {
            "text/plain": [
              "<Figure size 432x288 with 1 Axes>"
            ],
            "image/png": "[encoded data removed]"
          },
          "metadata": {
            "needs_background": "light"
          }
        },
        {
          "output_type": "display_data",
          "data": {
            "text/plain": [
              "<Figure size 432x288 with 0 Axes>"
            ]
          },
          "metadata": {}
        }
      ]
    },
    {
      "cell_type": "code",
      "source": [
        "### Create Model from scratch using CNN with kernel size as 3\n",
        "model2=Sequential()\n",
        "model2.add(Conv2D(filters=16,kernel_size=3,padding=\"same\",activation=\"relu\",input_shape=(224,224,3)))\n",
        "model2.add(MaxPooling2D(pool_size=2))\n",
        "model2.add(Conv2D(filters=32,kernel_size=3,padding=\"same\",activation =\"relu\"))\n",
        "model2.add(MaxPooling2D(pool_size=2))\n",
        "model2.add(Conv2D(filters=64,kernel_size=3,padding=\"same\",activation=\"relu\"))\n",
        "model2.add(MaxPooling2D(pool_size=2))\n",
        "model2.add(Flatten())\n",
        "model2.add(Dense(500,activation=\"relu\"))\n",
        "model2.add(Dense(2,activation=\"softmax\"))\n",
        "model2.summary()"
      ],
      "metadata": {
        "colab": {
          "base_uri": "https://localhost:8080/"
        },
        "id": "gglQNajHrUeN",
        "outputId": "61ce84c1-1847-4b79-f6a1-f0a3c96dba34"
      },
      "execution_count": null,
      "outputs": [
        {
          "output_type": "stream",
          "name": "stdout",
          "text": [
            "Model: \"sequential_2\"\n",
            "_________________________________________________________________\n",
            " Layer (type)                Output Shape              Param #   \n",
            "=================================================================\n",
            " conv2d_6 (Conv2D)           (None, 224, 224, 16)      448       \n",
            "                                                                 \n",
            " max_pooling2d_6 (MaxPooling  (None, 112, 112, 16)     0         \n",
            " 2D)                                                             \n",
            "                                                                 \n",
            " conv2d_7 (Conv2D)           (None, 112, 112, 32)      4640      \n",
            "                                                                 \n",
            " max_pooling2d_7 (MaxPooling  (None, 56, 56, 32)       0         \n",
            " 2D)                                                             \n",
            "                                                                 \n",
            " conv2d_8 (Conv2D)           (None, 56, 56, 64)        18496     \n",
            "                                                                 \n",
            " max_pooling2d_8 (MaxPooling  (None, 28, 28, 64)       0         \n",
            " 2D)                                                             \n",
            "                                                                 \n",
            " flatten_2 (Flatten)         (None, 50176)             0         \n",
            "                                                                 \n",
            " dense_4 (Dense)             (None, 500)               25088500  \n",
            "                                                                 \n",
            " dense_5 (Dense)             (None, 2)                 1002      \n",
            "                                                                 \n",
            "=================================================================\n",
            "Total params: 25,113,086\n",
            "Trainable params: 25,113,086\n",
            "Non-trainable params: 0\n",
            "_________________________________________________________________\n"
          ]
        }
      ]
    },
    {
      "cell_type": "code",
      "source": [
        "# tell the model what cost and optimization method to use\n",
        "model2.compile(\n",
        "  loss='categorical_crossentropy',\n",
        "  optimizer='adam',\n",
        "  metrics=['accuracy']\n",
        ")"
      ],
      "metadata": {
        "id": "R9Z6kpGO2Wuq"
      },
      "execution_count": null,
      "outputs": []
    },
    {
      "cell_type": "code",
      "source": [
        "# fit the model\n",
        "# Run the cell. It will take some time to execute\n",
        "r = model2.fit_generator(\n",
        "  training_set,\n",
        "  validation_data=test_set,\n",
        "  epochs=20,\n",
        "  steps_per_epoch=len(training_set),\n",
        "  validation_steps=len(test_set)\n",
        ")"
      ],
      "metadata": {
        "colab": {
          "base_uri": "https://localhost:8080/"
        },
        "id": "pf-cSzW0rmi0",
        "outputId": "6ce0e5f1-6733-486f-c8f2-44efc6da3bcb"
      },
      "execution_count": null,
      "outputs": [
        {
          "output_type": "stream",
          "name": "stderr",
          "text": [
            "/usr/local/lib/python3.7/dist-packages/ipykernel_launcher.py:8: UserWarning: `Model.fit_generator` is deprecated and will be removed in a future version. Please use `Model.fit`, which supports generators.\n",
            "  \n"
          ]
        },
        {
          "output_type": "stream",
          "name": "stdout",
          "text": [
            "Epoch 1/20\n",
            "13/13 [==============================] - 31s 2s/step - loss: 1.5166 - accuracy: 0.5192 - val_loss: 0.8439 - val_accuracy: 0.3209\n",
            "Epoch 2/20\n",
            "13/13 [==============================] - 29s 2s/step - loss: 0.6911 - accuracy: 0.6154 - val_loss: 0.6588 - val_accuracy: 0.6791\n",
            "Epoch 3/20\n",
            "13/13 [==============================] - 30s 2s/step - loss: 0.6804 - accuracy: 0.5168 - val_loss: 0.7370 - val_accuracy: 0.3209\n",
            "Epoch 4/20\n",
            "13/13 [==============================] - 29s 2s/step - loss: 0.6281 - accuracy: 0.7139 - val_loss: 0.8351 - val_accuracy: 0.3731\n",
            "Epoch 5/20\n",
            "13/13 [==============================] - 33s 3s/step - loss: 0.5340 - accuracy: 0.7236 - val_loss: 1.3200 - val_accuracy: 0.2985\n",
            "Epoch 6/20\n",
            "13/13 [==============================] - 29s 2s/step - loss: 0.6277 - accuracy: 0.6202 - val_loss: 0.8257 - val_accuracy: 0.3209\n",
            "Epoch 7/20\n",
            "13/13 [==============================] - 30s 2s/step - loss: 0.5518 - accuracy: 0.7115 - val_loss: 0.8683 - val_accuracy: 0.4179\n",
            "Epoch 8/20\n",
            "13/13 [==============================] - 31s 2s/step - loss: 0.5040 - accuracy: 0.7572 - val_loss: 0.6480 - val_accuracy: 0.5299\n",
            "Epoch 9/20\n",
            "13/13 [==============================] - 29s 2s/step - loss: 0.3899 - accuracy: 0.8486 - val_loss: 0.8992 - val_accuracy: 0.4776\n",
            "Epoch 10/20\n",
            "13/13 [==============================] - 29s 2s/step - loss: 0.3104 - accuracy: 0.8846 - val_loss: 0.6903 - val_accuracy: 0.6269\n",
            "Epoch 11/20\n",
            "13/13 [==============================] - 29s 2s/step - loss: 0.2912 - accuracy: 0.8654 - val_loss: 0.5339 - val_accuracy: 0.6642\n",
            "Epoch 12/20\n",
            "13/13 [==============================] - 29s 2s/step - loss: 0.2089 - accuracy: 0.9207 - val_loss: 0.5398 - val_accuracy: 0.7239\n",
            "Epoch 13/20\n",
            "13/13 [==============================] - 29s 2s/step - loss: 0.1909 - accuracy: 0.9351 - val_loss: 0.6648 - val_accuracy: 0.6866\n",
            "Epoch 14/20\n",
            "13/13 [==============================] - 29s 2s/step - loss: 0.1967 - accuracy: 0.9351 - val_loss: 0.4113 - val_accuracy: 0.8134\n",
            "Epoch 15/20\n",
            "13/13 [==============================] - 29s 2s/step - loss: 0.1869 - accuracy: 0.9351 - val_loss: 0.5609 - val_accuracy: 0.7836\n",
            "Epoch 16/20\n",
            "13/13 [==============================] - 29s 2s/step - loss: 0.1367 - accuracy: 0.9543 - val_loss: 0.4861 - val_accuracy: 0.7537\n",
            "Epoch 17/20\n",
            "13/13 [==============================] - 28s 2s/step - loss: 0.1712 - accuracy: 0.9303 - val_loss: 0.3755 - val_accuracy: 0.8134\n",
            "Epoch 18/20\n",
            "13/13 [==============================] - 29s 2s/step - loss: 0.1307 - accuracy: 0.9639 - val_loss: 0.5736 - val_accuracy: 0.8060\n",
            "Epoch 19/20\n",
            "13/13 [==============================] - 28s 2s/step - loss: 0.1315 - accuracy: 0.9639 - val_loss: 0.2801 - val_accuracy: 0.8881\n",
            "Epoch 20/20\n",
            "13/13 [==============================] - 28s 2s/step - loss: 0.0859 - accuracy: 0.9760 - val_loss: 0.2460 - val_accuracy: 0.9104\n"
          ]
        }
      ]
    },
    {
      "cell_type": "code",
      "source": [
        "# plot the loss\n",
        "plt.plot(r.history['loss'], label='train loss')\n",
        "plt.plot(r.history['val_loss'], label='val loss')\n",
        "plt.legend()\n",
        "plt.show()\n",
        "plt.savefig('LossVal_loss')\n",
        "\n",
        "# plot the accuracy\n",
        "plt.plot(r.history['accuracy'], label='train acc')\n",
        "plt.plot(r.history['val_accuracy'], label='val acc')\n",
        "plt.legend()\n",
        "plt.show()\n",
        "plt.savefig('AccVal_acc')"
      ],
      "metadata": {
        "colab": {
          "base_uri": "https://localhost:8080/",
          "height": 531
        },
        "id": "vsY3nq8a3CjR",
        "outputId": "47bf33c2-edfb-46f7-9961-d44f8b1527f1"
      },
      "execution_count": null,
      "outputs": [
        {
          "output_type": "display_data",
          "data": {
            "text/plain": [
              "<Figure size 432x288 with 1 Axes>"
            ],
            "image/png": "[encoded data removed]"
          },
          "metadata": {
            "needs_background": "light"
          }
        },
        {
          "output_type": "display_data",
          "data": {
            "text/plain": [
              "<Figure size 432x288 with 1 Axes>"
            ],
            "image/png": "[encoded data removed]"
          },
          "metadata": {
            "needs_background": "light"
          }
        },
        {
          "output_type": "display_data",
          "data": {
            "text/plain": [
              "<Figure size 432x288 with 0 Axes>"
            ]
          },
          "metadata": {}
        }
      ]
    },
    {
      "cell_type": "code",
      "source": [
        "### Create Model from scratch using CNN with kernel size as 5\n",
        "model3=Sequential()\n",
        "model3.add(Conv2D(filters=16,kernel_size=5,padding=\"same\",activation=\"relu\",input_shape=(224,224,3)))\n",
        "model3.add(MaxPooling2D(pool_size=2))\n",
        "model3.add(Conv2D(filters=32,kernel_size=5,padding=\"same\",activation =\"relu\"))\n",
        "model3.add(MaxPooling2D(pool_size=2))\n",
        "model3.add(Conv2D(filters=64,kernel_size=5,padding=\"same\",activation=\"relu\"))\n",
        "model3.add(MaxPooling2D(pool_size=2))\n",
        "model3.add(Flatten())\n",
        "model3.add(Dense(500,activation=\"relu\"))\n",
        "model3.add(Dense(2,activation=\"softmax\"))\n",
        "model3.summary()"
      ],
      "metadata": {
        "colab": {
          "base_uri": "https://localhost:8080/"
        },
        "id": "PxfU1zoyrUiB",
        "outputId": "67a25899-9e73-46c6-8027-24c7b2c38337"
      },
      "execution_count": null,
      "outputs": [
        {
          "output_type": "stream",
          "name": "stdout",
          "text": [
            "Model: \"sequential_4\"\n",
            "_________________________________________________________________\n",
            " Layer (type)                Output Shape              Param #   \n",
            "=================================================================\n",
            " conv2d_12 (Conv2D)          (None, 224, 224, 16)      1216      \n",
            "                                                                 \n",
            " max_pooling2d_12 (MaxPoolin  (None, 112, 112, 16)     0         \n",
            " g2D)                                                            \n",
            "                                                                 \n",
            " conv2d_13 (Conv2D)          (None, 112, 112, 32)      12832     \n",
            "                                                                 \n",
            " max_pooling2d_13 (MaxPoolin  (None, 56, 56, 32)       0         \n",
            " g2D)                                                            \n",
            "                                                                 \n",
            " conv2d_14 (Conv2D)          (None, 56, 56, 64)        51264     \n",
            "                                                                 \n",
            " max_pooling2d_14 (MaxPoolin  (None, 28, 28, 64)       0         \n",
            " g2D)                                                            \n",
            "                                                                 \n",
            " flatten_4 (Flatten)         (None, 50176)             0         \n",
            "                                                                 \n",
            " dense_8 (Dense)             (None, 500)               25088500  \n",
            "                                                                 \n",
            " dense_9 (Dense)             (None, 2)                 1002      \n",
            "                                                                 \n",
            "=================================================================\n",
            "Total params: 25,154,814\n",
            "Trainable params: 25,154,814\n",
            "Non-trainable params: 0\n",
            "_________________________________________________________________\n"
          ]
        }
      ]
    },
    {
      "cell_type": "code",
      "source": [
        "# tell the model what cost and optimization method to use\n",
        "model3.compile(\n",
        "  loss='categorical_crossentropy',\n",
        "  optimizer='adam',\n",
        "  metrics=['accuracy']\n",
        ")"
      ],
      "metadata": {
        "id": "SidsorWl3U8a"
      },
      "execution_count": null,
      "outputs": []
    },
    {
      "cell_type": "code",
      "source": [
        "# fit the model\n",
        "# Run the cell. It will take some time to execute\n",
        "r = model3.fit_generator(\n",
        "  training_set,\n",
        "  validation_data=test_set,\n",
        "  epochs=20,\n",
        "  steps_per_epoch=len(training_set),\n",
        "  validation_steps=len(test_set)\n",
        ")"
      ],
      "metadata": {
        "colab": {
          "base_uri": "https://localhost:8080/"
        },
        "id": "fqk1Fd433eO0",
        "outputId": "ef371288-7fd2-4274-9c4b-01447ec36803"
      },
      "execution_count": null,
      "outputs": [
        {
          "output_type": "stream",
          "name": "stderr",
          "text": [
            "/usr/local/lib/python3.7/dist-packages/ipykernel_launcher.py:8: UserWarning: `Model.fit_generator` is deprecated and will be removed in a future version. Please use `Model.fit`, which supports generators.\n",
            "  \n"
          ]
        },
        {
          "output_type": "stream",
          "name": "stdout",
          "text": [
            "Epoch 1/20\n",
            "13/13 [==============================] - 50s 4s/step - loss: 2.5181 - accuracy: 0.4712 - val_loss: 0.6934 - val_accuracy: 0.4776\n",
            "Epoch 2/20\n",
            "13/13 [==============================] - 49s 4s/step - loss: 0.6919 - accuracy: 0.5601 - val_loss: 0.6889 - val_accuracy: 0.6866\n",
            "Epoch 3/20\n",
            "13/13 [==============================] - 49s 4s/step - loss: 0.6894 - accuracy: 0.5577 - val_loss: 0.7014 - val_accuracy: 0.3955\n",
            "Epoch 4/20\n",
            "13/13 [==============================] - 49s 4s/step - loss: 0.6897 - accuracy: 0.5337 - val_loss: 0.6745 - val_accuracy: 0.6791\n",
            "Epoch 5/20\n",
            "13/13 [==============================] - 49s 4s/step - loss: 0.6856 - accuracy: 0.5697 - val_loss: 0.6914 - val_accuracy: 0.5000\n",
            "Epoch 6/20\n",
            "13/13 [==============================] - 49s 4s/step - loss: 0.6844 - accuracy: 0.5769 - val_loss: 0.6907 - val_accuracy: 0.5149\n",
            "Epoch 7/20\n",
            "13/13 [==============================] - 49s 4s/step - loss: 0.6729 - accuracy: 0.5721 - val_loss: 0.7511 - val_accuracy: 0.3955\n",
            "Epoch 8/20\n",
            "13/13 [==============================] - 49s 4s/step - loss: 0.6562 - accuracy: 0.6130 - val_loss: 0.6430 - val_accuracy: 0.6567\n",
            "Epoch 9/20\n",
            "13/13 [==============================] - 49s 4s/step - loss: 0.6884 - accuracy: 0.5673 - val_loss: 0.6727 - val_accuracy: 0.5672\n",
            "Epoch 10/20\n",
            "13/13 [==============================] - 49s 4s/step - loss: 0.6601 - accuracy: 0.6274 - val_loss: 0.6677 - val_accuracy: 0.5896\n",
            "Epoch 11/20\n",
            "13/13 [==============================] - 49s 4s/step - loss: 0.6448 - accuracy: 0.6250 - val_loss: 0.7436 - val_accuracy: 0.5149\n",
            "Epoch 12/20\n",
            "13/13 [==============================] - 49s 4s/step - loss: 0.6429 - accuracy: 0.5841 - val_loss: 0.7405 - val_accuracy: 0.4701\n",
            "Epoch 13/20\n",
            "13/13 [==============================] - 49s 4s/step - loss: 0.6433 - accuracy: 0.6274 - val_loss: 0.7765 - val_accuracy: 0.4627\n",
            "Epoch 14/20\n",
            "13/13 [==============================] - 49s 4s/step - loss: 0.6403 - accuracy: 0.6106 - val_loss: 0.6689 - val_accuracy: 0.5896\n",
            "Epoch 15/20\n",
            "13/13 [==============================] - 49s 4s/step - loss: 0.6580 - accuracy: 0.5649 - val_loss: 0.6619 - val_accuracy: 0.6119\n",
            "Epoch 16/20\n",
            "13/13 [==============================] - 49s 4s/step - loss: 0.6353 - accuracy: 0.6298 - val_loss: 0.6906 - val_accuracy: 0.5448\n",
            "Epoch 17/20\n",
            "13/13 [==============================] - 49s 4s/step - loss: 0.6189 - accuracy: 0.6659 - val_loss: 0.6856 - val_accuracy: 0.5597\n",
            "Epoch 18/20\n",
            "13/13 [==============================] - 49s 4s/step - loss: 0.6144 - accuracy: 0.6514 - val_loss: 0.6597 - val_accuracy: 0.6119\n",
            "Epoch 19/20\n",
            "13/13 [==============================] - 51s 4s/step - loss: 0.5865 - accuracy: 0.6875 - val_loss: 0.7066 - val_accuracy: 0.5299\n",
            "Epoch 20/20\n",
            "13/13 [==============================] - 50s 4s/step - loss: 0.5999 - accuracy: 0.6755 - val_loss: 0.6134 - val_accuracy: 0.6418\n"
          ]
        }
      ]
    },
    {
      "cell_type": "code",
      "source": [
        "# plot the loss\n",
        "plt.plot(r.history['loss'], label='train loss')\n",
        "plt.plot(r.history['val_loss'], label='val loss')\n",
        "plt.legend()\n",
        "plt.show()\n",
        "plt.savefig('LossVal_loss')\n",
        "\n",
        "# plot the accuracy\n",
        "plt.plot(r.history['accuracy'], label='train acc')\n",
        "plt.plot(r.history['val_accuracy'], label='val acc')\n",
        "plt.legend()\n",
        "plt.show()\n",
        "plt.savefig('AccVal_acc')"
      ],
      "metadata": {
        "colab": {
          "base_uri": "https://localhost:8080/",
          "height": 533
        },
        "id": "f4T0Npfl3G-8",
        "outputId": "5f837d65-a5e8-44ba-c2de-df6853324d82"
      },
      "execution_count": null,
      "outputs": [
        {
          "output_type": "display_data",
          "data": {
            "text/plain": [
              "<Figure size 432x288 with 1 Axes>"
            ],
            "image/png": "[encoded data removed]"
          },
          "metadata": {
            "needs_background": "light"
          }
        },
        {
          "output_type": "display_data",
          "data": {
            "text/plain": [
              "<Figure size 432x288 with 1 Axes>"
            ],
            "image/png": "[encoded data removed]"
          },
          "metadata": {
            "needs_background": "light"
          }
        },
        {
          "output_type": "display_data",
          "data": {
            "text/plain": [
              "<Figure size 432x288 with 0 Axes>"
            ]
          },
          "metadata": {}
        }
      ]
    },
    {
      "cell_type": "code",
      "source": [
        "### Create Model from scratch using CNN with kernel size as 3 and activation function as softmax\n",
        "model4=Sequential()\n",
        "model4.add(Conv2D(filters=16,kernel_size=3,padding=\"same\",activation=\"softmax\",input_shape=(224,224,3)))\n",
        "model4.add(MaxPooling2D(pool_size=2))\n",
        "model4.add(Conv2D(filters=32,kernel_size=3,padding=\"same\",activation =\"softmax\"))\n",
        "model4.add(MaxPooling2D(pool_size=2))\n",
        "model4.add(Conv2D(filters=64,kernel_size=3,padding=\"same\",activation=\"softmax\"))\n",
        "model4.add(MaxPooling2D(pool_size=2))\n",
        "model4.add(Flatten())\n",
        "model4.add(Dense(500,activation=\"softmax\"))\n",
        "model4.add(Dense(2,activation=\"softmax\"))\n",
        "model4.summary()"
      ],
      "metadata": {
        "colab": {
          "base_uri": "https://localhost:8080/"
        },
        "id": "U0setCCwKAGM",
        "outputId": "2f5f563a-6023-4ff6-d3eb-679e5293af04"
      },
      "execution_count": null,
      "outputs": [
        {
          "output_type": "stream",
          "name": "stdout",
          "text": [
            "Model: \"sequential_5\"\n",
            "_________________________________________________________________\n",
            " Layer (type)                Output Shape              Param #   \n",
            "=================================================================\n",
            " conv2d_15 (Conv2D)          (None, 224, 224, 16)      448       \n",
            "                                                                 \n",
            " max_pooling2d_15 (MaxPoolin  (None, 112, 112, 16)     0         \n",
            " g2D)                                                            \n",
            "                                                                 \n",
            " conv2d_16 (Conv2D)          (None, 112, 112, 32)      4640      \n",
            "                                                                 \n",
            " max_pooling2d_16 (MaxPoolin  (None, 56, 56, 32)       0         \n",
            " g2D)                                                            \n",
            "                                                                 \n",
            " conv2d_17 (Conv2D)          (None, 56, 56, 64)        18496     \n",
            "                                                                 \n",
            " max_pooling2d_17 (MaxPoolin  (None, 28, 28, 64)       0         \n",
            " g2D)                                                            \n",
            "                                                                 \n",
            " flatten_5 (Flatten)         (None, 50176)             0         \n",
            "                                                                 \n",
            " dense_10 (Dense)            (None, 500)               25088500  \n",
            "                                                                 \n",
            " dense_11 (Dense)            (None, 2)                 1002      \n",
            "                                                                 \n",
            "=================================================================\n",
            "Total params: 25,113,086\n",
            "Trainable params: 25,113,086\n",
            "Non-trainable params: 0\n",
            "_________________________________________________________________\n"
          ]
        }
      ]
    },
    {
      "cell_type": "code",
      "source": [
        "# tell the model what cost and optimization method to use\n",
        "model4.compile(\n",
        "  loss='categorical_crossentropy',\n",
        "  optimizer='adam',\n",
        "  metrics=['accuracy']\n",
        ")"
      ],
      "metadata": {
        "id": "gzodz0DqLjep"
      },
      "execution_count": null,
      "outputs": []
    },
    {
      "cell_type": "code",
      "source": [
        "# fit the model\n",
        "# Run the cell. It will take some time to execute\n",
        "r = model4.fit_generator(\n",
        "  training_set,\n",
        "  validation_data=test_set,\n",
        "  epochs=20,\n",
        "  steps_per_epoch=len(training_set),\n",
        "  validation_steps=len(test_set)\n",
        ")"
      ],
      "metadata": {
        "colab": {
          "base_uri": "https://localhost:8080/"
        },
        "id": "JpE53I7rLloI",
        "outputId": "f6efeacc-b277-4bd5-8d0a-2caa2436037b"
      },
      "execution_count": null,
      "outputs": [
        {
          "output_type": "stream",
          "name": "stderr",
          "text": [
            "/usr/local/lib/python3.7/dist-packages/ipykernel_launcher.py:8: UserWarning: `Model.fit_generator` is deprecated and will be removed in a future version. Please use `Model.fit`, which supports generators.\n",
            "  \n"
          ]
        },
        {
          "output_type": "stream",
          "name": "stdout",
          "text": [
            "Epoch 1/20\n",
            "13/13 [==============================] - 34s 3s/step - loss: 0.6931 - accuracy: 0.4952 - val_loss: 0.6863 - val_accuracy: 0.6791\n",
            "Epoch 2/20\n",
            "13/13 [==============================] - 33s 3s/step - loss: 0.6919 - accuracy: 0.5288 - val_loss: 0.6792 - val_accuracy: 0.6791\n",
            "Epoch 3/20\n",
            "13/13 [==============================] - 33s 2s/step - loss: 0.6918 - accuracy: 0.5288 - val_loss: 0.6724 - val_accuracy: 0.6791\n",
            "Epoch 4/20\n",
            "13/13 [==============================] - 33s 2s/step - loss: 0.6920 - accuracy: 0.5288 - val_loss: 0.6692 - val_accuracy: 0.6791\n",
            "Epoch 5/20\n",
            "13/13 [==============================] - 33s 2s/step - loss: 0.6916 - accuracy: 0.5288 - val_loss: 0.6729 - val_accuracy: 0.6791\n",
            "Epoch 6/20\n",
            "13/13 [==============================] - 33s 2s/step - loss: 0.6917 - accuracy: 0.5288 - val_loss: 0.6753 - val_accuracy: 0.6791\n",
            "Epoch 7/20\n",
            "13/13 [==============================] - 33s 2s/step - loss: 0.6917 - accuracy: 0.5288 - val_loss: 0.6731 - val_accuracy: 0.6791\n",
            "Epoch 8/20\n",
            "13/13 [==============================] - 33s 2s/step - loss: 0.6916 - accuracy: 0.5288 - val_loss: 0.6743 - val_accuracy: 0.6791\n",
            "Epoch 9/20\n",
            "13/13 [==============================] - 32s 2s/step - loss: 0.6916 - accuracy: 0.5288 - val_loss: 0.6740 - val_accuracy: 0.6791\n",
            "Epoch 10/20\n",
            "13/13 [==============================] - 33s 2s/step - loss: 0.6916 - accuracy: 0.5288 - val_loss: 0.6737 - val_accuracy: 0.6791\n",
            "Epoch 11/20\n",
            "13/13 [==============================] - 33s 2s/step - loss: 0.6916 - accuracy: 0.5288 - val_loss: 0.6727 - val_accuracy: 0.6791\n",
            "Epoch 12/20\n",
            "13/13 [==============================] - 33s 3s/step - loss: 0.6917 - accuracy: 0.5288 - val_loss: 0.6752 - val_accuracy: 0.6791\n",
            "Epoch 13/20\n",
            "13/13 [==============================] - 33s 2s/step - loss: 0.6916 - accuracy: 0.5288 - val_loss: 0.6743 - val_accuracy: 0.6791\n",
            "Epoch 14/20\n",
            "13/13 [==============================] - 33s 3s/step - loss: 0.6916 - accuracy: 0.5288 - val_loss: 0.6732 - val_accuracy: 0.6791\n",
            "Epoch 15/20\n",
            "13/13 [==============================] - 33s 3s/step - loss: 0.6915 - accuracy: 0.5288 - val_loss: 0.6739 - val_accuracy: 0.6791\n",
            "Epoch 16/20\n",
            "13/13 [==============================] - 33s 2s/step - loss: 0.6916 - accuracy: 0.5288 - val_loss: 0.6744 - val_accuracy: 0.6791\n",
            "Epoch 17/20\n",
            "13/13 [==============================] - 33s 3s/step - loss: 0.6915 - accuracy: 0.5288 - val_loss: 0.6744 - val_accuracy: 0.6791\n",
            "Epoch 18/20\n",
            "13/13 [==============================] - 34s 3s/step - loss: 0.6915 - accuracy: 0.5288 - val_loss: 0.6743 - val_accuracy: 0.6791\n",
            "Epoch 19/20\n",
            "13/13 [==============================] - 37s 3s/step - loss: 0.6917 - accuracy: 0.5288 - val_loss: 0.6729 - val_accuracy: 0.6791\n",
            "Epoch 20/20\n",
            "13/13 [==============================] - 36s 3s/step - loss: 0.6916 - accuracy: 0.5288 - val_loss: 0.6742 - val_accuracy: 0.6791\n"
          ]
        }
      ]
    },
    {
      "cell_type": "code",
      "source": [
        "### Create Model from scratch using CNN with kernel size as 3 and activation function as sigmoid\n",
        "model5=Sequential()\n",
        "model5.add(Conv2D(filters=16,kernel_size=3,padding=\"same\",activation=\"relu\",input_shape=(224,224,3)))\n",
        "model5.add(MaxPooling2D(pool_size=2))\n",
        "model5.add(Conv2D(filters=32,kernel_size=3,padding=\"same\",activation =\"relu\"))\n",
        "model5.add(MaxPooling2D(pool_size=2))\n",
        "model5.add(Conv2D(filters=64,kernel_size=3,padding=\"same\",activation=\"relu\"))\n",
        "model5.add(MaxPooling2D(pool_size=2))\n",
        "model5.add(Flatten())\n",
        "model5.add(Dense(500,activation=\"relu\"))\n",
        "model5.add(Dense(2,activation=\"sigmoid\"))\n",
        "model5.summary()"
      ],
      "metadata": {
        "colab": {
          "base_uri": "https://localhost:8080/"
        },
        "id": "NWF3SC3VOM7O",
        "outputId": "b20d586c-a894-4a4e-ff25-d0633be20009"
      },
      "execution_count": null,
      "outputs": [
        {
          "output_type": "stream",
          "name": "stdout",
          "text": [
            "Model: \"sequential_8\"\n",
            "_________________________________________________________________\n",
            " Layer (type)                Output Shape              Param #   \n",
            "=================================================================\n",
            " conv2d_24 (Conv2D)          (None, 224, 224, 16)      448       \n",
            "                                                                 \n",
            " max_pooling2d_24 (MaxPoolin  (None, 112, 112, 16)     0         \n",
            " g2D)                                                            \n",
            "                                                                 \n",
            " conv2d_25 (Conv2D)          (None, 112, 112, 32)      4640      \n",
            "                                                                 \n",
            " max_pooling2d_25 (MaxPoolin  (None, 56, 56, 32)       0         \n",
            " g2D)                                                            \n",
            "                                                                 \n",
            " conv2d_26 (Conv2D)          (None, 56, 56, 64)        18496     \n",
            "                                                                 \n",
            " max_pooling2d_26 (MaxPoolin  (None, 28, 28, 64)       0         \n",
            " g2D)                                                            \n",
            "                                                                 \n",
            " flatten_8 (Flatten)         (None, 50176)             0         \n",
            "                                                                 \n",
            " dense_16 (Dense)            (None, 500)               25088500  \n",
            "                                                                 \n",
            " dense_17 (Dense)            (None, 2)                 1002      \n",
            "                                                                 \n",
            "=================================================================\n",
            "Total params: 25,113,086\n",
            "Trainable params: 25,113,086\n",
            "Non-trainable params: 0\n",
            "_________________________________________________________________\n"
          ]
        }
      ]
    },
    {
      "cell_type": "code",
      "source": [
        "# tell the model what cost and optimization method to use\n",
        "model5.compile(\n",
        "  loss='categorical_crossentropy',\n",
        "  optimizer='adam',\n",
        "  metrics=['accuracy']\n",
        ")"
      ],
      "metadata": {
        "id": "sRfWvWg4O2lz"
      },
      "execution_count": null,
      "outputs": []
    },
    {
      "cell_type": "code",
      "source": [
        "# fit the model\n",
        "# Run the cell. It will take some time to execute\n",
        "r = model5.fit_generator(\n",
        "  training_set,\n",
        "  validation_data=test_set,\n",
        "  epochs=20,\n",
        "  steps_per_epoch=len(training_set),\n",
        "  validation_steps=len(test_set)\n",
        ")"
      ],
      "metadata": {
        "colab": {
          "base_uri": "https://localhost:8080/"
        },
        "id": "QtIcXRL4O4AS",
        "outputId": "e2bb938d-6f9a-4d25-c6c7-3aed30c92b61"
      },
      "execution_count": null,
      "outputs": [
        {
          "output_type": "stream",
          "name": "stderr",
          "text": [
            "/usr/local/lib/python3.7/dist-packages/ipykernel_launcher.py:8: UserWarning: `Model.fit_generator` is deprecated and will be removed in a future version. Please use `Model.fit`, which supports generators.\n",
            "  \n"
          ]
        },
        {
          "output_type": "stream",
          "name": "stdout",
          "text": [
            "Epoch 1/20\n",
            "13/13 [==============================] - 31s 2s/step - loss: 1.9842 - accuracy: 0.5000 - val_loss: 0.7231 - val_accuracy: 0.3209\n",
            "Epoch 2/20\n",
            "13/13 [==============================] - 30s 2s/step - loss: 0.6888 - accuracy: 0.5361 - val_loss: 0.6901 - val_accuracy: 0.5970\n",
            "Epoch 3/20\n",
            "13/13 [==============================] - 29s 2s/step - loss: 0.6733 - accuracy: 0.6346 - val_loss: 0.7186 - val_accuracy: 0.3582\n",
            "Epoch 4/20\n",
            "13/13 [==============================] - 29s 2s/step - loss: 0.6364 - accuracy: 0.6611 - val_loss: 0.9192 - val_accuracy: 0.3507\n",
            "Epoch 5/20\n",
            "13/13 [==============================] - 29s 2s/step - loss: 0.6368 - accuracy: 0.6346 - val_loss: 0.7572 - val_accuracy: 0.3657\n",
            "Epoch 6/20\n",
            "13/13 [==============================] - 29s 2s/step - loss: 0.5711 - accuracy: 0.7091 - val_loss: 0.7960 - val_accuracy: 0.3955\n",
            "Epoch 7/20\n",
            "13/13 [==============================] - 28s 2s/step - loss: 0.5032 - accuracy: 0.7428 - val_loss: 0.8697 - val_accuracy: 0.3731\n",
            "Epoch 8/20\n",
            "13/13 [==============================] - 28s 2s/step - loss: 0.4818 - accuracy: 0.7861 - val_loss: 1.0598 - val_accuracy: 0.5075\n",
            "Epoch 9/20\n",
            "13/13 [==============================] - 28s 2s/step - loss: 0.5935 - accuracy: 0.7139 - val_loss: 0.7010 - val_accuracy: 0.4851\n",
            "Epoch 10/20\n",
            "13/13 [==============================] - 29s 2s/step - loss: 0.4668 - accuracy: 0.7837 - val_loss: 0.6898 - val_accuracy: 0.5672\n",
            "Epoch 11/20\n",
            "13/13 [==============================] - 29s 2s/step - loss: 0.3261 - accuracy: 0.8534 - val_loss: 0.6017 - val_accuracy: 0.6343\n",
            "Epoch 12/20\n",
            "13/13 [==============================] - 30s 2s/step - loss: 0.2736 - accuracy: 0.8942 - val_loss: 0.7929 - val_accuracy: 0.6418\n",
            "Epoch 13/20\n",
            "13/13 [==============================] - 33s 2s/step - loss: 0.3363 - accuracy: 0.8582 - val_loss: 0.6219 - val_accuracy: 0.6567\n",
            "Epoch 14/20\n",
            "13/13 [==============================] - 29s 2s/step - loss: 0.2256 - accuracy: 0.9279 - val_loss: 0.4674 - val_accuracy: 0.7836\n",
            "Epoch 15/20\n",
            "13/13 [==============================] - 29s 2s/step - loss: 0.1355 - accuracy: 0.9495 - val_loss: 0.3398 - val_accuracy: 0.8582\n",
            "Epoch 16/20\n",
            "13/13 [==============================] - 29s 2s/step - loss: 0.1685 - accuracy: 0.9423 - val_loss: 0.7996 - val_accuracy: 0.6045\n",
            "Epoch 17/20\n",
            "13/13 [==============================] - 29s 2s/step - loss: 0.2497 - accuracy: 0.9183 - val_loss: 0.3561 - val_accuracy: 0.8433\n",
            "Epoch 18/20\n",
            "13/13 [==============================] - 29s 2s/step - loss: 0.1673 - accuracy: 0.9495 - val_loss: 0.5985 - val_accuracy: 0.7985\n",
            "Epoch 19/20\n",
            "13/13 [==============================] - 29s 2s/step - loss: 0.2521 - accuracy: 0.9062 - val_loss: 0.4811 - val_accuracy: 0.7313\n",
            "Epoch 20/20\n",
            "13/13 [==============================] - 29s 2s/step - loss: 0.2203 - accuracy: 0.9351 - val_loss: 0.4047 - val_accuracy: 0.8284\n"
          ]
        }
      ]
    },
    {
      "cell_type": "code",
      "source": [
        "### Create Model from scratch using CNN with kernel size as 3 and activation function as sigmoid\n",
        "model6=Sequential()\n",
        "model6.add(Conv2D(filters=16,kernel_size=3,padding=\"same\",activation=\"sigmoid\",input_shape=(224,224,3)))\n",
        "model6.add(MaxPooling2D(pool_size=2))\n",
        "model6.add(Conv2D(filters=32,kernel_size=3,padding=\"same\",activation =\"sigmoid\"))\n",
        "model6.add(MaxPooling2D(pool_size=2))\n",
        "model6.add(Conv2D(filters=64,kernel_size=3,padding=\"same\",activation=\"sigmoid\"))\n",
        "model6.add(MaxPooling2D(pool_size=2))\n",
        "model6.add(Flatten())\n",
        "model6.add(Dense(500,activation=\"sigmoid\"))\n",
        "model6.add(Dense(2,activation=\"sigmoid\"))\n",
        "model6.summary()"
      ],
      "metadata": {
        "colab": {
          "base_uri": "https://localhost:8080/"
        },
        "id": "uTCWZQLRQUgV",
        "outputId": "aa2df79d-3337-43b3-95fb-bc055a5768fe"
      },
      "execution_count": null,
      "outputs": [
        {
          "output_type": "stream",
          "name": "stdout",
          "text": [
            "Model: \"sequential_10\"\n",
            "_________________________________________________________________\n",
            " Layer (type)                Output Shape              Param #   \n",
            "=================================================================\n",
            " conv2d_30 (Conv2D)          (None, 224, 224, 16)      448       \n",
            "                                                                 \n",
            " max_pooling2d_30 (MaxPoolin  (None, 112, 112, 16)     0         \n",
            " g2D)                                                            \n",
            "                                                                 \n",
            " conv2d_31 (Conv2D)          (None, 112, 112, 32)      4640      \n",
            "                                                                 \n",
            " max_pooling2d_31 (MaxPoolin  (None, 56, 56, 32)       0         \n",
            " g2D)                                                            \n",
            "                                                                 \n",
            " conv2d_32 (Conv2D)          (None, 56, 56, 64)        18496     \n",
            "                                                                 \n",
            " max_pooling2d_32 (MaxPoolin  (None, 28, 28, 64)       0         \n",
            " g2D)                                                            \n",
            "                                                                 \n",
            " flatten_10 (Flatten)        (None, 50176)             0         \n",
            "                                                                 \n",
            " dense_20 (Dense)            (None, 500)               25088500  \n",
            "                                                                 \n",
            " dense_21 (Dense)            (None, 2)                 1002      \n",
            "                                                                 \n",
            "=================================================================\n",
            "Total params: 25,113,086\n",
            "Trainable params: 25,113,086\n",
            "Non-trainable params: 0\n",
            "_________________________________________________________________\n"
          ]
        }
      ]
    },
    {
      "cell_type": "code",
      "source": [
        "# tell the model what cost and optimization method to use\n",
        "model6.compile(\n",
        "  loss='categorical_crossentropy',\n",
        "  optimizer='adam',\n",
        "  metrics=['accuracy']\n",
        ")"
      ],
      "metadata": {
        "id": "03bTjL35Qow2"
      },
      "execution_count": null,
      "outputs": []
    },
    {
      "cell_type": "code",
      "source": [
        "# fit the model\n",
        "# Run the cell. It will take some time to execute\n",
        "r = model6.fit_generator(\n",
        "  training_set,\n",
        "  validation_data=test_set,\n",
        "  epochs=20,\n",
        "  steps_per_epoch=len(training_set),\n",
        "  validation_steps=len(test_set)\n",
        ")"
      ],
      "metadata": {
        "colab": {
          "base_uri": "https://localhost:8080/"
        },
        "id": "8EbyjzuoQpiO",
        "outputId": "66d52448-3f8e-4678-fc99-a4a98485ae40"
      },
      "execution_count": null,
      "outputs": [
        {
          "output_type": "stream",
          "name": "stderr",
          "text": [
            "/usr/local/lib/python3.7/dist-packages/ipykernel_launcher.py:8: UserWarning: `Model.fit_generator` is deprecated and will be removed in a future version. Please use `Model.fit`, which supports generators.\n",
            "  \n"
          ]
        },
        {
          "output_type": "stream",
          "name": "stdout",
          "text": [
            "Epoch 1/20\n",
            "13/13 [==============================] - 31s 2s/step - loss: 6.4848 - accuracy: 0.5433 - val_loss: 3.9131 - val_accuracy: 0.6791\n",
            "Epoch 2/20\n",
            "13/13 [==============================] - 30s 2s/step - loss: 4.4295 - accuracy: 0.5288 - val_loss: 1.9114 - val_accuracy: 0.6791\n",
            "Epoch 3/20\n",
            "13/13 [==============================] - 30s 2s/step - loss: 1.6080 - accuracy: 0.5288 - val_loss: 0.7063 - val_accuracy: 0.3209\n",
            "Epoch 4/20\n",
            "13/13 [==============================] - 30s 2s/step - loss: 0.8542 - accuracy: 0.4712 - val_loss: 0.9345 - val_accuracy: 0.3209\n",
            "Epoch 5/20\n",
            "13/13 [==============================] - 31s 2s/step - loss: 0.7098 - accuracy: 0.5337 - val_loss: 0.6285 - val_accuracy: 0.6791\n",
            "Epoch 6/20\n",
            "13/13 [==============================] - 31s 2s/step - loss: 0.7084 - accuracy: 0.5288 - val_loss: 0.6752 - val_accuracy: 0.6791\n",
            "Epoch 7/20\n",
            "13/13 [==============================] - 30s 2s/step - loss: 0.6923 - accuracy: 0.5048 - val_loss: 0.7096 - val_accuracy: 0.3209\n",
            "Epoch 8/20\n",
            "13/13 [==============================] - 30s 2s/step - loss: 0.6933 - accuracy: 0.5000 - val_loss: 0.6668 - val_accuracy: 0.6791\n",
            "Epoch 9/20\n",
            "13/13 [==============================] - 30s 2s/step - loss: 0.6970 - accuracy: 0.5288 - val_loss: 0.6695 - val_accuracy: 0.6791\n",
            "Epoch 10/20\n",
            "13/13 [==============================] - 30s 2s/step - loss: 0.6922 - accuracy: 0.5288 - val_loss: 0.6851 - val_accuracy: 0.6791\n",
            "Epoch 11/20\n",
            "13/13 [==============================] - 30s 2s/step - loss: 0.6949 - accuracy: 0.5288 - val_loss: 0.6700 - val_accuracy: 0.6791\n",
            "Epoch 12/20\n",
            "13/13 [==============================] - 30s 2s/step - loss: 0.6958 - accuracy: 0.4760 - val_loss: 0.6689 - val_accuracy: 0.6791\n",
            "Epoch 13/20\n",
            "13/13 [==============================] - 30s 2s/step - loss: 0.6942 - accuracy: 0.5288 - val_loss: 0.6665 - val_accuracy: 0.6791\n",
            "Epoch 14/20\n",
            "13/13 [==============================] - 30s 2s/step - loss: 0.6967 - accuracy: 0.4663 - val_loss: 0.6685 - val_accuracy: 0.6791\n",
            "Epoch 15/20\n",
            "13/13 [==============================] - 30s 2s/step - loss: 0.6951 - accuracy: 0.5288 - val_loss: 0.6854 - val_accuracy: 0.6791\n",
            "Epoch 16/20\n",
            "13/13 [==============================] - 30s 2s/step - loss: 0.6940 - accuracy: 0.4856 - val_loss: 0.6711 - val_accuracy: 0.6791\n",
            "Epoch 17/20\n",
            "13/13 [==============================] - 30s 2s/step - loss: 0.6929 - accuracy: 0.5288 - val_loss: 0.6762 - val_accuracy: 0.6791\n",
            "Epoch 18/20\n",
            "13/13 [==============================] - 30s 2s/step - loss: 0.6930 - accuracy: 0.5288 - val_loss: 0.6720 - val_accuracy: 0.6791\n",
            "Epoch 19/20\n",
            "13/13 [==============================] - 34s 3s/step - loss: 0.6972 - accuracy: 0.5048 - val_loss: 0.6986 - val_accuracy: 0.3209\n",
            "Epoch 20/20\n",
            "13/13 [==============================] - 30s 2s/step - loss: 0.6927 - accuracy: 0.5096 - val_loss: 0.6589 - val_accuracy: 0.6791\n"
          ]
        }
      ]
    },
    {
      "cell_type": "code",
      "source": [
        "### Create Model from scratch using CNN with kernel size as 3 and activation function as softmax and pooling size 3*3\n",
        "model7=Sequential()\n",
        "model7.add(Conv2D(filters=16,kernel_size=3,padding=\"same\",activation=\"relu\",input_shape=(224,224,3)))\n",
        "model7.add(MaxPooling2D(pool_size=3))\n",
        "model7.add(Conv2D(filters=32,kernel_size=3,padding=\"same\",activation =\"relu\"))\n",
        "model7.add(MaxPooling2D(pool_size=3))\n",
        "model7.add(Conv2D(filters=64,kernel_size=3,padding=\"same\",activation=\"relu\"))\n",
        "model7.add(MaxPooling2D(pool_size=3))\n",
        "model7.add(Flatten())\n",
        "model7.add(Dense(500,activation=\"relu\"))\n",
        "model7.add(Dense(2,activation=\"softmax\"))\n",
        "model7.summary()"
      ],
      "metadata": {
        "colab": {
          "base_uri": "https://localhost:8080/"
        },
        "id": "WyKIm8q6WZJI",
        "outputId": "d23c9b38-0256-4c93-e528-90cfbf83995e"
      },
      "execution_count": null,
      "outputs": [
        {
          "output_type": "stream",
          "name": "stdout",
          "text": [
            "Model: \"sequential_13\"\n",
            "_________________________________________________________________\n",
            " Layer (type)                Output Shape              Param #   \n",
            "=================================================================\n",
            " conv2d_39 (Conv2D)          (None, 224, 224, 16)      448       \n",
            "                                                                 \n",
            " max_pooling2d_39 (MaxPoolin  (None, 74, 74, 16)       0         \n",
            " g2D)                                                            \n",
            "                                                                 \n",
            " conv2d_40 (Conv2D)          (None, 74, 74, 32)        4640      \n",
            "                                                                 \n",
            " max_pooling2d_40 (MaxPoolin  (None, 24, 24, 32)       0         \n",
            " g2D)                                                            \n",
            "                                                                 \n",
            " conv2d_41 (Conv2D)          (None, 24, 24, 64)        18496     \n",
            "                                                                 \n",
            " max_pooling2d_41 (MaxPoolin  (None, 8, 8, 64)         0         \n",
            " g2D)                                                            \n",
            "                                                                 \n",
            " flatten_13 (Flatten)        (None, 4096)              0         \n",
            "                                                                 \n",
            " dense_26 (Dense)            (None, 500)               2048500   \n",
            "                                                                 \n",
            " dense_27 (Dense)            (None, 2)                 1002      \n",
            "                                                                 \n",
            "=================================================================\n",
            "Total params: 2,073,086\n",
            "Trainable params: 2,073,086\n",
            "Non-trainable params: 0\n",
            "_________________________________________________________________\n"
          ]
        }
      ]
    },
    {
      "cell_type": "code",
      "source": [
        "# tell the model what cost and optimization method to use\n",
        "model7.compile(\n",
        "  loss='categorical_crossentropy',\n",
        "  optimizer='adam',\n",
        "  metrics=['accuracy']\n",
        ")"
      ],
      "metadata": {
        "id": "aXp0aRqkW9QF"
      },
      "execution_count": null,
      "outputs": []
    },
    {
      "cell_type": "code",
      "source": [
        "# fit the model\n",
        "# Run the cell. It will take some time to execute\n",
        "r = model7.fit_generator(\n",
        "  training_set,\n",
        "  validation_data=test_set,\n",
        "  epochs=20,\n",
        "  steps_per_epoch=len(training_set),\n",
        "  validation_steps=len(test_set)\n",
        ")"
      ],
      "metadata": {
        "colab": {
          "base_uri": "https://localhost:8080/"
        },
        "id": "EoyOBbjlW_Nj",
        "outputId": "ffb37f37-6361-48de-ccd7-21a82e0eb20e"
      },
      "execution_count": null,
      "outputs": [
        {
          "output_type": "stream",
          "name": "stderr",
          "text": [
            "/usr/local/lib/python3.7/dist-packages/ipykernel_launcher.py:8: UserWarning: `Model.fit_generator` is deprecated and will be removed in a future version. Please use `Model.fit`, which supports generators.\n",
            "  \n"
          ]
        },
        {
          "output_type": "stream",
          "name": "stdout",
          "text": [
            "Epoch 1/20\n",
            "13/13 [==============================] - 19s 1s/step - loss: 0.6996 - accuracy: 0.5288 - val_loss: 0.6421 - val_accuracy: 0.6791\n",
            "Epoch 2/20\n",
            "13/13 [==============================] - 18s 1s/step - loss: 0.5655 - accuracy: 0.6947 - val_loss: 0.7637 - val_accuracy: 0.4179\n",
            "Epoch 3/20\n",
            "13/13 [==============================] - 18s 1s/step - loss: 0.4543 - accuracy: 0.7933 - val_loss: 0.9511 - val_accuracy: 0.4552\n",
            "Epoch 4/20\n",
            "13/13 [==============================] - 18s 1s/step - loss: 0.3913 - accuracy: 0.8269 - val_loss: 0.7336 - val_accuracy: 0.6045\n",
            "Epoch 5/20\n",
            "13/13 [==============================] - 18s 1s/step - loss: 0.3109 - accuracy: 0.8582 - val_loss: 0.5890 - val_accuracy: 0.6493\n",
            "Epoch 6/20\n",
            "13/13 [==============================] - 18s 1s/step - loss: 0.2990 - accuracy: 0.8750 - val_loss: 0.5517 - val_accuracy: 0.6791\n",
            "Epoch 7/20\n",
            "13/13 [==============================] - 18s 1s/step - loss: 0.2760 - accuracy: 0.8966 - val_loss: 0.4314 - val_accuracy: 0.7537\n",
            "Epoch 8/20\n",
            "13/13 [==============================] - 18s 1s/step - loss: 0.1838 - accuracy: 0.9399 - val_loss: 0.4026 - val_accuracy: 0.7687\n",
            "Epoch 9/20\n",
            "13/13 [==============================] - 18s 1s/step - loss: 0.1971 - accuracy: 0.9231 - val_loss: 0.3271 - val_accuracy: 0.8657\n",
            "Epoch 10/20\n",
            "13/13 [==============================] - 18s 1s/step - loss: 0.1335 - accuracy: 0.9519 - val_loss: 0.2417 - val_accuracy: 0.8806\n",
            "Epoch 11/20\n",
            "13/13 [==============================] - 18s 1s/step - loss: 0.1359 - accuracy: 0.9471 - val_loss: 0.2600 - val_accuracy: 0.8731\n",
            "Epoch 12/20\n",
            "13/13 [==============================] - 18s 1s/step - loss: 0.0965 - accuracy: 0.9760 - val_loss: 0.5676 - val_accuracy: 0.8209\n",
            "Epoch 13/20\n",
            "13/13 [==============================] - 18s 1s/step - loss: 0.0974 - accuracy: 0.9712 - val_loss: 0.3348 - val_accuracy: 0.8806\n",
            "Epoch 14/20\n",
            "13/13 [==============================] - 18s 1s/step - loss: 0.0850 - accuracy: 0.9712 - val_loss: 0.4135 - val_accuracy: 0.9104\n",
            "Epoch 15/20\n",
            "13/13 [==============================] - 18s 1s/step - loss: 0.0928 - accuracy: 0.9712 - val_loss: 0.1794 - val_accuracy: 0.9254\n",
            "Epoch 16/20\n",
            "13/13 [==============================] - 18s 1s/step - loss: 0.0656 - accuracy: 0.9808 - val_loss: 0.5807 - val_accuracy: 0.8507\n",
            "Epoch 17/20\n",
            "13/13 [==============================] - 18s 1s/step - loss: 0.1449 - accuracy: 0.9663 - val_loss: 0.1678 - val_accuracy: 0.9254\n",
            "Epoch 18/20\n",
            "13/13 [==============================] - 18s 1s/step - loss: 0.0596 - accuracy: 0.9808 - val_loss: 0.5327 - val_accuracy: 0.8806\n",
            "Epoch 19/20\n",
            "13/13 [==============================] - 18s 1s/step - loss: 0.0548 - accuracy: 0.9832 - val_loss: 0.1778 - val_accuracy: 0.9254\n",
            "Epoch 20/20\n",
            "13/13 [==============================] - 18s 1s/step - loss: 0.0485 - accuracy: 0.9880 - val_loss: 0.2206 - val_accuracy: 0.9254\n"
          ]
        }
      ]
    },
    {
      "cell_type": "code",
      "source": [
        "# plot the loss\n",
        "plt.plot(r.history['loss'], label='train loss')\n",
        "plt.plot(r.history['val_loss'], label='val loss')\n",
        "plt.legend()\n",
        "plt.show()\n",
        "plt.savefig('LossVal_loss')\n",
        "\n",
        "# plot the accuracy\n",
        "plt.plot(r.history['accuracy'], label='train acc')\n",
        "plt.plot(r.history['val_accuracy'], label='val acc')\n",
        "plt.legend()\n",
        "plt.show()\n",
        "plt.savefig('AccVal_acc')"
      ],
      "metadata": {
        "colab": {
          "base_uri": "https://localhost:8080/",
          "height": 530
        },
        "id": "EVuHtIzJXCm5",
        "outputId": "1972bc7c-104e-4906-f11a-655845b4e23b"
      },
      "execution_count": null,
      "outputs": [
        {
          "output_type": "display_data",
          "data": {
            "text/plain": [
              "<Figure size 432x288 with 1 Axes>"
            ],
            "image/png": "[encoded data removed]"
          },
          "metadata": {
            "needs_background": "light"
          }
        },
        {
          "output_type": "display_data",
          "data": {
            "text/plain": [
              "<Figure size 432x288 with 1 Axes>"
            ],
            "image/png": "[encoded data removed]"
          },
          "metadata": {
            "needs_background": "light"
          }
        },
        {
          "output_type": "display_data",
          "data": {
            "text/plain": [
              "<Figure size 432x288 with 0 Axes>"
            ]
          },
          "metadata": {}
        }
      ]
    },
    {
      "cell_type": "code",
      "source": [
        "### Create Model from scratch using CNN with kernel size as 3 and activation function as softmax and pooling size 5\n",
        "model8=Sequential()\n",
        "model8.add(Conv2D(filters=16,kernel_size=3,padding=\"same\",activation=\"relu\",input_shape=(224,224,3)))\n",
        "model8.add(MaxPooling2D(pool_size=5))\n",
        "model8.add(Conv2D(filters=32,kernel_size=3,padding=\"same\",activation =\"relu\"))\n",
        "model8.add(MaxPooling2D(pool_size=5))\n",
        "model8.add(Conv2D(filters=64,kernel_size=3,padding=\"same\",activation=\"relu\"))\n",
        "model8.add(MaxPooling2D(pool_size=5))\n",
        "model8.add(Flatten())\n",
        "model8.add(Dense(500,activation=\"relu\"))\n",
        "model8.add(Dense(2,activation=\"softmax\"))\n",
        "model8.summary()"
      ],
      "metadata": {
        "colab": {
          "base_uri": "https://localhost:8080/"
        },
        "id": "ZucUDKtuYhLv",
        "outputId": "39a5968c-19e2-48a8-82c7-c935f0adc198"
      },
      "execution_count": null,
      "outputs": [
        {
          "output_type": "stream",
          "name": "stdout",
          "text": [
            "Model: \"sequential_15\"\n",
            "_________________________________________________________________\n",
            " Layer (type)                Output Shape              Param #   \n",
            "=================================================================\n",
            " conv2d_45 (Conv2D)          (None, 224, 224, 16)      448       \n",
            "                                                                 \n",
            " max_pooling2d_45 (MaxPoolin  (None, 44, 44, 16)       0         \n",
            " g2D)                                                            \n",
            "                                                                 \n",
            " conv2d_46 (Conv2D)          (None, 44, 44, 32)        4640      \n",
            "                                                                 \n",
            " max_pooling2d_46 (MaxPoolin  (None, 8, 8, 32)         0         \n",
            " g2D)                                                            \n",
            "                                                                 \n",
            " conv2d_47 (Conv2D)          (None, 8, 8, 64)          18496     \n",
            "                                                                 \n",
            " max_pooling2d_47 (MaxPoolin  (None, 1, 1, 64)         0         \n",
            " g2D)                                                            \n",
            "                                                                 \n",
            " flatten_15 (Flatten)        (None, 64)                0         \n",
            "                                                                 \n",
            " dense_30 (Dense)            (None, 500)               32500     \n",
            "                                                                 \n",
            " dense_31 (Dense)            (None, 2)                 1002      \n",
            "                                                                 \n",
            "=================================================================\n",
            "Total params: 57,086\n",
            "Trainable params: 57,086\n",
            "Non-trainable params: 0\n",
            "_________________________________________________________________\n"
          ]
        }
      ]
    },
    {
      "cell_type": "code",
      "source": [
        "# tell the model what cost and optimization method to use\n",
        "model8.compile(\n",
        "  loss='categorical_crossentropy',\n",
        "  optimizer='adam',\n",
        "  metrics=['accuracy']\n",
        ")"
      ],
      "metadata": {
        "id": "O3PW_V4aYwCv"
      },
      "execution_count": null,
      "outputs": []
    },
    {
      "cell_type": "code",
      "source": [
        "# fit the model\n",
        "# Run the cell. It will take some time to execute\n",
        "r = model8.fit_generator(\n",
        "  training_set,\n",
        "  validation_data=test_set,\n",
        "  epochs=20,\n",
        "  steps_per_epoch=len(training_set),\n",
        "  validation_steps=len(test_set)\n",
        ")"
      ],
      "metadata": {
        "colab": {
          "base_uri": "https://localhost:8080/"
        },
        "id": "arAQQpjiYs26",
        "outputId": "2784ef20-d7f7-4aa0-a952-956332b0f4f4"
      },
      "execution_count": null,
      "outputs": [
        {
          "output_type": "stream",
          "name": "stderr",
          "text": [
            "/usr/local/lib/python3.7/dist-packages/ipykernel_launcher.py:8: UserWarning: `Model.fit_generator` is deprecated and will be removed in a future version. Please use `Model.fit`, which supports generators.\n",
            "  \n"
          ]
        },
        {
          "output_type": "stream",
          "name": "stdout",
          "text": [
            "Epoch 1/20\n",
            "13/13 [==============================] - 17s 1s/step - loss: 0.7045 - accuracy: 0.4928 - val_loss: 0.6584 - val_accuracy: 0.6791\n",
            "Epoch 2/20\n",
            "13/13 [==============================] - 15s 1s/step - loss: 0.6889 - accuracy: 0.5409 - val_loss: 0.6812 - val_accuracy: 0.6791\n",
            "Epoch 3/20\n",
            "13/13 [==============================] - 15s 1s/step - loss: 0.6607 - accuracy: 0.6274 - val_loss: 0.6899 - val_accuracy: 0.5299\n",
            "Epoch 4/20\n",
            "13/13 [==============================] - 15s 1s/step - loss: 0.5188 - accuracy: 0.7668 - val_loss: 0.7148 - val_accuracy: 0.5224\n",
            "Epoch 5/20\n",
            "13/13 [==============================] - 15s 1s/step - loss: 0.3847 - accuracy: 0.8125 - val_loss: 0.7618 - val_accuracy: 0.6045\n",
            "Epoch 6/20\n",
            "13/13 [==============================] - 15s 1s/step - loss: 0.3617 - accuracy: 0.8221 - val_loss: 0.5978 - val_accuracy: 0.5746\n",
            "Epoch 7/20\n",
            "13/13 [==============================] - 15s 1s/step - loss: 0.3067 - accuracy: 0.8750 - val_loss: 0.6365 - val_accuracy: 0.5970\n",
            "Epoch 8/20\n",
            "13/13 [==============================] - 15s 1s/step - loss: 0.3045 - accuracy: 0.8654 - val_loss: 0.7544 - val_accuracy: 0.5448\n",
            "Epoch 9/20\n",
            "13/13 [==============================] - 15s 1s/step - loss: 0.3055 - accuracy: 0.8582 - val_loss: 0.5995 - val_accuracy: 0.7313\n",
            "Epoch 10/20\n",
            "13/13 [==============================] - 15s 1s/step - loss: 0.2664 - accuracy: 0.8918 - val_loss: 0.5958 - val_accuracy: 0.6343\n",
            "Epoch 11/20\n",
            "13/13 [==============================] - 15s 1s/step - loss: 0.2546 - accuracy: 0.8918 - val_loss: 0.6621 - val_accuracy: 0.6194\n",
            "Epoch 12/20\n",
            "13/13 [==============================] - 15s 1s/step - loss: 0.2487 - accuracy: 0.9087 - val_loss: 0.5745 - val_accuracy: 0.7090\n",
            "Epoch 13/20\n",
            "13/13 [==============================] - 15s 1s/step - loss: 0.2499 - accuracy: 0.8846 - val_loss: 0.5994 - val_accuracy: 0.7537\n",
            "Epoch 14/20\n",
            "13/13 [==============================] - 15s 1s/step - loss: 0.2667 - accuracy: 0.9062 - val_loss: 0.5555 - val_accuracy: 0.7537\n",
            "Epoch 15/20\n",
            "13/13 [==============================] - 15s 1s/step - loss: 0.2527 - accuracy: 0.8822 - val_loss: 0.5263 - val_accuracy: 0.7239\n",
            "Epoch 16/20\n",
            "13/13 [==============================] - 15s 1s/step - loss: 0.2408 - accuracy: 0.8942 - val_loss: 0.5508 - val_accuracy: 0.7761\n",
            "Epoch 17/20\n",
            "13/13 [==============================] - 15s 1s/step - loss: 0.2326 - accuracy: 0.9087 - val_loss: 0.4747 - val_accuracy: 0.7463\n",
            "Epoch 18/20\n",
            "13/13 [==============================] - 15s 1s/step - loss: 0.2453 - accuracy: 0.8846 - val_loss: 0.4584 - val_accuracy: 0.7687\n",
            "Epoch 19/20\n",
            "13/13 [==============================] - 15s 1s/step - loss: 0.2450 - accuracy: 0.8918 - val_loss: 0.4450 - val_accuracy: 0.7910\n",
            "Epoch 20/20\n",
            "13/13 [==============================] - 15s 1s/step - loss: 0.2507 - accuracy: 0.8942 - val_loss: 0.4607 - val_accuracy: 0.7910\n"
          ]
        }
      ]
    },
    {
      "cell_type": "code",
      "source": [
        "# plot the loss\n",
        "plt.plot(r.history['loss'], label='train loss')\n",
        "plt.plot(r.history['val_loss'], label='val loss')\n",
        "plt.legend()\n",
        "plt.show()\n",
        "plt.savefig('LossVal_loss')\n",
        "\n",
        "# plot the accuracy\n",
        "plt.plot(r.history['accuracy'], label='train acc')\n",
        "plt.plot(r.history['val_accuracy'], label='val acc')\n",
        "plt.legend()\n",
        "plt.show()\n",
        "plt.savefig('AccVal_acc')"
      ],
      "metadata": {
        "colab": {
          "base_uri": "https://localhost:8080/",
          "height": 530
        },
        "id": "kubOS3qQY3wV",
        "outputId": "b06635bc-3038-48b5-9563-75d5890ae1fb"
      },
      "execution_count": null,
      "outputs": [
        {
          "output_type": "display_data",
          "data": {
            "text/plain": [
              "<Figure size 432x288 with 1 Axes>"
            ],
            "image/png": "[encoded data removed]"
          },
          "metadata": {
            "needs_background": "light"
          }
        },
        {
          "output_type": "display_data",
          "data": {
            "text/plain": [
              "<Figure size 432x288 with 1 Axes>"
            ],
            "image/png": "[encoded data removed]"
          },
          "metadata": {
            "needs_background": "light"
          }
        },
        {
          "output_type": "display_data",
          "data": {
            "text/plain": [
              "<Figure size 432x288 with 0 Axes>"
            ]
          },
          "metadata": {}
        }
      ]
    }
  ]
}